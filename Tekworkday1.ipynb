{
  "nbformat": 4,
  "nbformat_minor": 0,
  "metadata": {
    "colab": {
      "provenance": []
    },
    "kernelspec": {
      "name": "python3",
      "display_name": "Python 3"
    },
    "language_info": {
      "name": "python"
    }
  },
  "cells": [
    {
      "cell_type": "code",
      "execution_count": null,
      "metadata": {
        "colab": {
          "base_uri": "https://localhost:8080/"
        },
        "id": "JgL_RWIJomou",
        "outputId": "b30abae8-4c66-4ff8-e199-af3b3ea25b00"
      },
      "outputs": [
        {
          "output_type": "stream",
          "name": "stdout",
          "text": [
            "70\n",
            "80\n",
            "90\n",
            "B\n"
          ]
        }
      ],
      "source": [
        "I=int (input(\"\"))\n",
        "E=int (input(\"\"))\n",
        "P=int (input(\"\"))\n",
        "\n",
        "\n",
        "if(I>=50 and E>=50 and P>=50):\n",
        "  Totalmarks=(I*10/100)+(P*70/100)+(E*20/100)\n",
        "  if(Totalmarks>90):\n",
        "    print(\"A\")\n",
        "  elif(Totalmarks>=70):\n",
        "   print(\"B\")\n",
        "  else:\n",
        "   print(\"C\")\n",
        "\n",
        "else:\n",
        "  if(I!=50):\n",
        "    print(\"You got failes in internl and score \",I)\n",
        "  elif(P!=50):\n",
        "      print(\"You got failed in Project\",P)\n",
        "  elif(E!=50):\n",
        "    print(\"you got failes in enternal\",E)\n"
      ]
    },
    {
      "cell_type": "code",
      "source": [
        "prev=int(input(\"Enter Prev units\"))\n",
        "pres=int(input(\"Enter Pres units\"))\n",
        "\n",
        "units=pres-prev\n",
        "bill=0\n",
        "if units<=50:\n",
        "    bill=units*0.50\n",
        "elif units<=150:\n",
        "    bill= 50*0.50+(units-50)*0.75\n",
        "elif units<=250:\n",
        "    bill=50*0.50+(100*0.75)+(units-150)*1.25\n",
        "else:\n",
        "    bill=50*0.50+(100*0.75)+(100*1.25)+(units-250)*2.50\n",
        "\n",
        "\n",
        "bill=bill+(bill*18)/100\n",
        "print(bill)"
      ],
      "metadata": {
        "colab": {
          "base_uri": "https://localhost:8080/"
        },
        "id": "ThBW_9cuJ9SD",
        "outputId": "5a3d9a29-94ba-4ee3-c975-fe077ef9238d"
      },
      "execution_count": null,
      "outputs": [
        {
          "output_type": "stream",
          "name": "stdout",
          "text": [
            "Enter Prev units5400\n",
            "Enter Pres units6500\n",
            "2773.0\n"
          ]
        }
      ]
    },
    {
      "cell_type": "code",
      "source": [
        "mealtype= int(input(\"1.veg 2.non-veg 3.combo\"))\n",
        "quantity= int(input(\"Enter quantity\"))\n",
        "festival=int(input(\"enter festival day 1)yes 2)no\"))\n",
        "if(mealtype==1):\n",
        "  total=150*quantity\n",
        "elif(meal==2):\n",
        "  total=200*quantity\n",
        "elif(meal == 3):\n",
        "  total=300*quantity\n",
        "if(festival==1):\n",
        "  totalbill=total-(total*10)/100\n",
        "if(totalbill>1000):\n",
        "  print(\"you got free desert\")\n",
        "totalbill=totalbill+(totalbill*5)/100\n",
        "print(totalbill)\n",
        "\n",
        "\n",
        "\n",
        "\n",
        "\n",
        "\n"
      ],
      "metadata": {
        "colab": {
          "base_uri": "https://localhost:8080/"
        },
        "id": "qr8NZ3KuKRrk",
        "outputId": "8bb45802-bea3-4a27-91ef-b5c399cb5dbc"
      },
      "execution_count": null,
      "outputs": [
        {
          "output_type": "stream",
          "name": "stdout",
          "text": [
            "1.veg 2.non-veg 3.combo1\n",
            "Enter quantity2\n",
            "enter festival day 1)yes 2)no1\n",
            "283.5\n"
          ]
        }
      ]
    },
    {
      "cell_type": "code",
      "source": [
        "studentname = input(\"enter student name\")\n",
        "classs10th=int(input(\"enter class 10th marks\"))\n",
        "classs12th=int(input(\"enter class 12th marks\"))\n",
        "ug=int(input(\"enter ug marks\"))\n",
        "familyincome=int(input(\"enter famil income\"))\n",
        "marks=85\n",
        "if(classs10th > marks and classs12th >marks and  ug > marks and familyincome < 3):\n",
        "  print(\"Full scholarship\")\n",
        "elif(ug <= 70 and familyincome < 5):\n",
        "  print(\"partial scholarship\")\n",
        "else:\n",
        "  print(\"not eligable\")\n"
      ],
      "metadata": {
        "colab": {
          "base_uri": "https://localhost:8080/"
        },
        "id": "5BfBJskvQjcG",
        "outputId": "098bd922-5769-4645-f4e0-e4ba3ea6ab0a"
      },
      "execution_count": null,
      "outputs": [
        {
          "output_type": "stream",
          "name": "stdout",
          "text": [
            "enter student namebharath\n",
            "enter class 10th marks90\n",
            "enter class 12th marks90\n",
            "enter ug marks90\n",
            "enter famil income2\n",
            "Full scholarship\n"
          ]
        }
      ]
    }
  ]
}