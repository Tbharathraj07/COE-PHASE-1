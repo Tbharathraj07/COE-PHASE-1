{
  "nbformat": 4,
  "nbformat_minor": 0,
  "metadata": {
    "colab": {
      "provenance": []
    },
    "kernelspec": {
      "name": "python3",
      "display_name": "Python 3"
    },
    "language_info": {
      "name": "python"
    }
  },
  "cells": [
    {
      "cell_type": "code",
      "execution_count": null,
      "metadata": {
        "id": "gJZ_KqlGbm-A",
        "colab": {
          "base_uri": "https://localhost:8080/"
        },
        "outputId": "ac7bc503-3e25-4993-ba67-67446cd240a1"
      },
      "outputs": [
        {
          "output_type": "stream",
          "name": "stdout",
          "text": [
            "1234\n"
          ]
        }
      ],
      "source": [
        "a = \"1234\"\n",
        "a = int(a)\n",
        "print(a)"
      ]
    },
    {
      "cell_type": "code",
      "source": [
        "b = 12.75\n",
        "b = int(b)\n",
        "print(b)"
      ],
      "metadata": {
        "colab": {
          "base_uri": "https://localhost:8080/"
        },
        "id": "OvycXxmujgXH",
        "outputId": "7a70deed-6917-437a-8185-cacfb46e85b0"
      },
      "execution_count": null,
      "outputs": [
        {
          "output_type": "stream",
          "name": "stdout",
          "text": [
            "12\n"
          ]
        }
      ]
    },
    {
      "cell_type": "code",
      "source": [
        "b=12.5\n",
        "b=str(b)\n",
        "print(b)"
      ],
      "metadata": {
        "id": "MIsDliKqwORh",
        "colab": {
          "base_uri": "https://localhost:8080/"
        },
        "outputId": "058cc375-db67-44e7-cb56-73bc337965e6"
      },
      "execution_count": null,
      "outputs": [
        {
          "output_type": "stream",
          "name": "stdout",
          "text": [
            "12.5\n"
          ]
        }
      ]
    },
    {
      "cell_type": "code",
      "source": [
        "a=\"122\"\n",
        "a=float(a)\n",
        "print(a)"
      ],
      "metadata": {
        "colab": {
          "base_uri": "https://localhost:8080/"
        },
        "id": "196jWNk4KjKt",
        "outputId": "0cb8382b-d648-4d8d-ccdc-54726198176b"
      },
      "execution_count": null,
      "outputs": [
        {
          "output_type": "stream",
          "name": "stdout",
          "text": [
            "122.0\n"
          ]
        }
      ]
    },
    {
      "cell_type": "code",
      "source": [
        "\n",
        "BS=int(input(\"Enter your basic salary\"))\n",
        "\n",
        "if(BS<20000):\n",
        "    HRA=(BS*76)/100\n",
        "    DA=(BS*78)/100\n",
        "elif(BS>20000 and BS<30000):\n",
        "    HRA=(BS*79)/100\n",
        "    DA=(BS*82)/100\n",
        "else:\n",
        "    HRA=(BS*85)/100\n",
        "    DA=(BS*89)/100\n",
        "\n",
        "grossprofit=BS+HRA+DA\n",
        "print(\"Your Gross Salary is : \",grossprofit)"
      ],
      "metadata": {
        "colab": {
          "base_uri": "https://localhost:8080/"
        },
        "id": "d4grdVYJwObd",
        "outputId": "773b70c4-a74a-4824-81e5-1ba9c6b9117e"
      },
      "execution_count": null,
      "outputs": [
        {
          "output_type": "stream",
          "name": "stdout",
          "text": [
            "Enter your basic salary24000\n",
            "Your Gross Salary is :  62640.0\n"
          ]
        }
      ]
    },
    {
      "cell_type": "code",
      "source": [
        "salary=int(input(\"enter your salary\"))\n",
        "\n",
        "if(salary >= 500000 and salary < 1000000):\n",
        "   sum1= (200000*5)/100\n",
        "   sum2= (300000*10)/100\n",
        "   TDS=sum1+sum2\n",
        "   print(TDS)\n",
        "elif:(salary >= 1000000 and salary < 2000000):\n",
        "  sum3=(200000*5)/100\n",
        "  sum4=(300000*10)/100\n",
        "  sum5=(500000*15)/100\n",
        "\n",
        "\n",
        "\n"
      ],
      "metadata": {
        "id": "18X2YZu91GDl"
      },
      "execution_count": null,
      "outputs": []
    }
  ]
}